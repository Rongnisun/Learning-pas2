{
  "nbformat": 4,
  "nbformat_minor": 0,
  "metadata": {
    "colab": {
      "name": "Untitled0.ipynb",
      "provenance": [],
      "authorship_tag": "ABX9TyPA0CXif7+lxOCTh75gT31d",
      "include_colab_link": true
    },
    "kernelspec": {
      "name": "python3",
      "display_name": "Python 3"
    },
    "language_info": {
      "name": "python"
    }
  },
  "cells": [
    {
      "cell_type": "markdown",
      "metadata": {
        "id": "view-in-github",
        "colab_type": "text"
      },
      "source": [
        "<a href=\"https://colab.research.google.com/github/Rongnisun/Learning-pas2/blob/main/Untitled0.ipynb\" target=\"_parent\"><img src=\"https://colab.research.google.com/assets/colab-badge.svg\" alt=\"Open In Colab\"/></a>"
      ]
    },
    {
      "cell_type": "code",
      "metadata": {
        "id": "iCqWjMGf1n8F"
      },
      "source": [
        "import random\n",
        "Guess = [\"ข้อมูล\"]\n",
        "Deta = {\"deta\":\"ข้อมูล\"}\n",
        "Answer = {\"ข้อมูล\":\"deta\"}\n",
        "\n",
        "\n",
        "while len(Guess)>0:\n",
        "  random.shuffle(Guess)\n",
        "  POP = (Guess.pop())\n",
        "  print(\"\")\n",
        "  print(\"--------------------\")\n",
        "  print(f\"คำว่า {POP}\")\n",
        "  tes = input(\"เขียนยังไง: \")\n",
        "  if tes in Deta:\n",
        "    print(f\"คำที่พิมพ์มานั้น {tes +' = '+ Deta[tes]}\")\n",
        "  else:\n",
        "    print(\"\")\n",
        "    print(\"**********************\")\n",
        "    print(\"คำตอบยังไม่ถูกนะ??\")\n",
        "    Tell = input(\"เฉลย : \")\n",
        "    if Tell in Answer:\n",
        "      print(f\"เขียนแบบนี้นะ {Answer[Tell]} สู้ๆ\")\n",
        "    else:\n",
        "      print(\"ไม่มีเฉลยให้นะคำนี้\")\n",
        "                                                              \n",
        "                                                                  \n",
        "                                                                     \n",
        "print(\"\")\n",
        "print (\"Game end\")"
      ],
      "execution_count": null,
      "outputs": []
    }
  ]
}