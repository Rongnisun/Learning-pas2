{
  "nbformat": 4,
  "nbformat_minor": 0,
  "metadata": {
    "colab": {
      "name": "Untitled0.ipynb",
      "provenance": [],
      "authorship_tag": "ABX9TyNjubCikY2k6eCaB/Cj3NSS",
      "include_colab_link": true
    },
    "kernelspec": {
      "name": "python3",
      "display_name": "Python 3"
    },
    "language_info": {
      "name": "python"
    }
  },
  "cells": [
    {
      "cell_type": "markdown",
      "metadata": {
        "id": "view-in-github",
        "colab_type": "text"
      },
      "source": [
        "<a href=\"https://colab.research.google.com/github/Rongnisun/Learning-pas2/blob/main/Untitled0.ipynb\" target=\"_parent\"><img src=\"https://colab.research.google.com/assets/colab-badge.svg\" alt=\"Open In Colab\"/></a>"
      ]
    },
    {
      "cell_type": "code",
      "metadata": {
        "colab": {
          "base_uri": "https://localhost:8080/"
        },
        "id": "ZPfYguDLc0DZ",
        "outputId": "7e2bba4e-6ea3-43be-c683-bc54842e1443"
      },
      "source": [
        "import numpy as np\n",
        "a = np.zeros(3)\n",
        "a\n",
        "b = np.zeros([3,3],dtype=\"int\")\n",
        "b\n",
        "c = np.ones((10,10),dtype=\"int\")\n",
        "c\n",
        "d = np.full([3,3],250)\n",
        "d\n",
        "e = np.empty([8,8])\n",
        "e\n",
        "f = np.identity(9)\n",
        "f\n",
        "g = np.eye(3,k=-1)\n",
        "g"
      ],
      "execution_count": null,
      "outputs": [
        {
          "output_type": "execute_result",
          "data": {
            "text/plain": [
              "array([[0., 0., 0.],\n",
              "       [1., 0., 0.],\n",
              "       [0., 1., 0.]])"
            ]
          },
          "metadata": {},
          "execution_count": 19
        }
      ]
    }
  ]
}